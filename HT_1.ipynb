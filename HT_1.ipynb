{
 "cells": [
  {
   "cell_type": "code",
   "execution_count": null,
   "metadata": {},
   "outputs": [],
   "source": [
    "import numpy as np\n",
    "import cv2\n",
    "\n",
    "img0 = cv2.imread('witcher.jpeg')\n",
    "y0=len(img0)\n",
    "x0=len(img0[0])\n",
    "\n",
    "blur = np.ones((5, 5)) / 25\n",
    "img1 = np.zeros((y0+4, x0+4, 3))\n",
    "img_final = np.zeros((y0, x0, 3))\n",
    "\n",
    "for i in range(y0):\n",
    "    for j in range (x0):\n",
    "        for k in range (3):\n",
    "            img1[i+2][j+2][k] = img0[i][j][k]\n",
    "\n",
    "matrix = np.zeros((5, 5))\n",
    "for i in range(y0):\n",
    "    for j in range(x0):\n",
    "        for k in range(3):\n",
    "            for a in range(5):\n",
    "                for b in range (5):\n",
    "                    matrix[a, b] = img1[a+i][j+b][k] * blur[a][b]\n",
    "\n",
    "            img_final[i][j][k] = np.sum(matrix)\n",
    "\n",
    "cv2.imwrite('img_final.jpeg', img_final)\n",
    "\n",
    " "
   ]
  },
  {
   "cell_type": "code",
   "execution_count": null,
   "metadata": {},
   "outputs": [],
   "source": []
  }
 ],
 "metadata": {
  "kernelspec": {
   "display_name": "Python 3",
   "language": "python",
   "name": "python3"
  },
  "language_info": {
   "codemirror_mode": {
    "name": "ipython",
    "version": 3
   },
   "file_extension": ".py",
   "mimetype": "text/x-python",
   "name": "python",
   "nbconvert_exporter": "python",
   "pygments_lexer": "ipython3",
   "version": "3.7.7"
  }
 },
 "nbformat": 4,
 "nbformat_minor": 4
}
