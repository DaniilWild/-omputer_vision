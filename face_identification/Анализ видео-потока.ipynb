{
 "cells": [
  {
   "cell_type": "code",
   "execution_count": 24,
   "metadata": {},
   "outputs": [
    {
     "name": "stdout",
     "output_type": "stream",
     "text": [
      "279\n"
     ]
    }
   ],
   "source": [
    "import cv2\n",
    "import numpy as np\n",
    "\n",
    "def average_hash(image):\n",
    "    resized_grey = cv2.cvtColor(cv2.resize(image, (12, 12)), cv2.COLOR_BGR2GRAY)\n",
    "    pixels = np.asarray(resized_grey)\n",
    "    average = pixels.mean()\n",
    "    difference = pixels > average\n",
    "    return sum([2 ** (i %12) for i, v in enumerate(difference.flatten()) if v])\n",
    "\n",
    "\n",
    "vidcap = cv2.VideoCapture('59.mp4')\n",
    "success, image = vidcap.read()\n",
    "count = 0\n",
    "prev_hash = average_hash(image)\n",
    "while success:\n",
    "    new_hash = average_hash(image)\n",
    "    if prev_hash != new_hash: Ь\n",
    "        count += 1\n",
    "    prev_hash = new_hash\n",
    "    success, image = vidcap.read()\n",
    "print(count)"
   ]
  },
  {
   "cell_type": "code",
   "execution_count": 18,
   "metadata": {},
   "outputs": [
    {
     "name": "stdout",
     "output_type": "stream",
     "text": [
      "149.27777777777777\n"
     ]
    }
   ],
   "source": []
  },
  {
   "cell_type": "code",
   "execution_count": null,
   "metadata": {},
   "outputs": [],
   "source": []
  },
  {
   "cell_type": "code",
   "execution_count": null,
   "metadata": {},
   "outputs": [],
   "source": []
  }
 ],
 "metadata": {
  "kernelspec": {
   "display_name": "Python 3",
   "language": "python",
   "name": "python3"
  },
  "language_info": {
   "codemirror_mode": {
    "name": "ipython",
    "version": 3
   },
   "file_extension": ".py",
   "mimetype": "text/x-python",
   "name": "python",
   "nbconvert_exporter": "python",
   "pygments_lexer": "ipython3",
   "version": "3.7.7"
  }
 },
 "nbformat": 4,
 "nbformat_minor": 4
}
