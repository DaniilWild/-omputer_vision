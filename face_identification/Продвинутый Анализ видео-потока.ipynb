{
 "cells": [
  {
   "cell_type": "code",
   "execution_count": 2,
   "metadata": {},
   "outputs": [
    {
     "name": "stderr",
     "output_type": "stream",
     "text": [
      "c:\\users\\даниил\\appdata\\local\\programs\\python\\python37\\lib\\site-packages\\ipykernel_launcher.py:12: RuntimeWarning: overflow encountered in ubyte_scalars\n",
      "  if sys.path[0] == '':\n"
     ]
    },
    {
     "name": "stdout",
     "output_type": "stream",
     "text": [
      "114\n"
     ]
    }
   ],
   "source": [
    "import cv2\n",
    "from random import randint\n",
    "import numpy as np\n",
    "\n",
    "\n",
    "def image_diff(image1, image2, threshold=0):\n",
    "    difference = 0\n",
    "    for i in range(100):\n",
    "        x = randint(0, image1.shape[0] - 1)\n",
    "        y = randint(0, image1.shape[1] - 1)\n",
    "        z = randint(0, image1.shape[2] - 1)\n",
    "        difference += abs(image1[x, y, z] - image2[x, y, z]) > threshold\n",
    "    return difference\n",
    "\n",
    "\n",
    "vidcap = cv2.VideoCapture('128.mp4')\n",
    "success, image = vidcap.read()\n",
    "prev_image = image\n",
    "\n",
    "frames = []\n",
    "old_frame = 0\n",
    "unique_images = []\n",
    "last_image = 0\n",
    "while success:\n",
    "    success, image = vidcap.read()\n",
    "    if not success:\n",
    "        image = np.zeros(prev_image.shape, np.uint8)\n",
    "    frames.append(image)\n",
    "    \n",
    "    diff = image_diff(prev_image, image)\n",
    "    if diff > 30:\n",
    "        unique_found = True\n",
    "        stable_image = frames[(len(frames) + old_frame) // 2]\n",
    "        old_frame = len(frames)\n",
    "        for unique_image in unique_images:\n",
    "            diff = image_diff(stable_image, unique_image, 3)\n",
    "            if diff < 50:\n",
    "                unique_found = False\n",
    "                break\n",
    "        if unique_found:\n",
    "            unique_images.append(stable_image)\n",
    "    prev_image = image\n",
    "\n",
    "print(len(unique_images))"
   ]
  },
  {
   "cell_type": "code",
   "execution_count": null,
   "metadata": {},
   "outputs": [],
   "source": []
  },
  {
   "cell_type": "code",
   "execution_count": null,
   "metadata": {},
   "outputs": [],
   "source": []
  }
 ],
 "metadata": {
  "kernelspec": {
   "display_name": "Python 3",
   "language": "python",
   "name": "python3"
  },
  "language_info": {
   "codemirror_mode": {
    "name": "ipython",
    "version": 3
   },
   "file_extension": ".py",
   "mimetype": "text/x-python",
   "name": "python",
   "nbconvert_exporter": "python",
   "pygments_lexer": "ipython3",
   "version": "3.7.7"
  }
 },
 "nbformat": 4,
 "nbformat_minor": 4
}
