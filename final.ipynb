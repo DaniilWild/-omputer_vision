{
 "cells": [
  {
   "cell_type": "code",
   "execution_count": null,
   "metadata": {},
   "outputs": [],
   "source": [
    "import cv2 as cv\n",
    "\n",
    "img1 = cv.imread('/home/strokovrg/Документы/ComputerVision/HW_2/Pictures/shrek.jpg',cv.IMREAD_GRAYSCALE)\n",
    "img2 = cv.imread('/home/strokovrg/Документы/ComputerVision/HW_2/Pictures/shrek90.jpeg',cv.IMREAD_GRAYSCALE)\n",
    "\n",
    "orb = cv.ORB_create()\n",
    "kp1, des1 = orb.detectAndCompute(img1, None)\n",
    "kp2, des2 = orb.detectAndCompute(img2, None)\n",
    "\n",
    "bf = cv.BFMatcher(cv.NORM_HAMMING, crossCheck=True)\n",
    "matches = bf.match(des1, des2)\n",
    "\n",
    "img1 = cv.drawKeypoints(img1, kp1, None, color=(125, 255, 0))\n",
    "img2 = cv.drawKeypoints(img2, kp2, None, color=(125, 255, 0))\n",
    "img3 = cv.drawMatches(img1, kp1, img2, kp2,  matches[:20], None, flags=cv.DrawMatchesFlags_NOT_DRAW_SINGLE_POINTS)\n",
    "\n",
    "cv.imshow('final', img3)\n",
    "cv.waitKey(0)\n",
    "cv.destroyAllWindows()\n"
   ]
  },
  {
   "cell_type": "code",
   "execution_count": null,
   "metadata": {},
   "outputs": [],
   "source": []
  }
 ],
 "metadata": {
  "kernelspec": {
   "display_name": "Python 3",
   "language": "python",
   "name": "python3"
  },
  "language_info": {
   "codemirror_mode": {
    "name": "ipython",
    "version": 3
   },
   "file_extension": ".py",
   "mimetype": "text/x-python",
   "name": "python",
   "nbconvert_exporter": "python",
   "pygments_lexer": "ipython3",
   "version": "3.6.9"
  }
 },
 "nbformat": 4,
 "nbformat_minor": 2
}
