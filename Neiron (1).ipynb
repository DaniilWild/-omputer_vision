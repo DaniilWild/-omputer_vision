{
 "cells": [
  {
   "cell_type": "code",
   "execution_count": 4,
   "metadata": {},
   "outputs": [],
   "source": [
    "import tensorflow as tf\n",
    "from tensorflow import keras\n",
    "import numpy as np\n",
    "from tensorflow.keras.preprocessing.image import ImageDataGenerator\n",
    "import os"
   ]
  },
  {
   "cell_type": "code",
   "execution_count": 5,
   "metadata": {},
   "outputs": [],
   "source": [
    "base_dir = 'C:/HW_3'\n",
    "train_dir = os.path.join (base_dir, 'Train_Date')\n",
    "test_dir = os.path.join (base_dir, 'Test_Date')\n",
    "#Директория даннных для обучения модели\n",
    "train_drum_dir = os.path.join (train_dir, 'drums')\n",
    "train_gutars_dir = os.path.join (train_dir, 'guitars')\n",
    "#Директория данных для тестирования модели\n",
    "test_drum_dir = os.path.join (test_dir, 'drums')\n",
    "test_gutars_dir = os.path.join (test_dir, 'guitars')\n"
   ]
  },
  {
   "cell_type": "code",
   "execution_count": 6,
   "metadata": {},
   "outputs": [],
   "source": [
    "#Узнаем колл-во элементов в какждой \n",
    "total_test = len(os.listdir(test_drum_dir)) + len(os.listdir(test_gutars_dir))\n",
    "total_train = len(os.listdir(train_drum_dir)) + len(os.listdir(train_gutars_dir))\n",
    "\n"
   ]
  },
  {
   "cell_type": "code",
   "execution_count": 7,
   "metadata": {},
   "outputs": [
    {
     "name": "stdout",
     "output_type": "stream",
     "text": [
      "Found 545 images belonging to 2 classes.\n",
      "Found 116 images belonging to 2 classes.\n"
     ]
    },
    {
     "data": {
      "text/plain": [
       "{'drums': 0, 'guitars': 1}"
      ]
     },
     "execution_count": 7,
     "metadata": {},
     "output_type": "execute_result"
    }
   ],
   "source": [
    "from tensorflow.keras.preprocessing.image import ImageDataGenerator\n",
    "\n",
    "#нормализируем каждое изображение\n",
    "test_datagen = ImageDataGenerator(rescale = 1./255)\n",
    "\n",
    "Batch_size = 32\n",
    "Image_lenght = 80\n",
    "train_generator = test_datagen.flow_from_directory(train_dir,  class_mode = 'binary', target_size=(Image_lenght,Image_lenght))\n",
    "test_generator =  test_datagen.flow_from_directory(test_dir,  class_mode = 'binary', target_size=(80,80))\n",
    "\n",
    "train_generator.class_indices"
   ]
  },
  {
   "cell_type": "code",
   "execution_count": 8,
   "metadata": {},
   "outputs": [
    {
     "name": "stdout",
     "output_type": "stream",
     "text": [
      "Model: \"sequential\"\n",
      "_________________________________________________________________\n",
      "Layer (type)                 Output Shape              Param #   \n",
      "=================================================================\n",
      "conv2d (Conv2D)              (None, 78, 78, 32)        896       \n",
      "_________________________________________________________________\n",
      "max_pooling2d (MaxPooling2D) (None, 39, 39, 32)        0         \n",
      "_________________________________________________________________\n",
      "conv2d_1 (Conv2D)            (None, 37, 37, 64)        18496     \n",
      "_________________________________________________________________\n",
      "max_pooling2d_1 (MaxPooling2 (None, 18, 18, 64)        0         \n",
      "_________________________________________________________________\n",
      "conv2d_2 (Conv2D)            (None, 16, 16, 128)       73856     \n",
      "_________________________________________________________________\n",
      "max_pooling2d_2 (MaxPooling2 (None, 8, 8, 128)         0         \n",
      "_________________________________________________________________\n",
      "conv2d_3 (Conv2D)            (None, 6, 6, 512)         590336    \n",
      "_________________________________________________________________\n",
      "max_pooling2d_3 (MaxPooling2 (None, 3, 3, 512)         0         \n",
      "_________________________________________________________________\n",
      "flatten (Flatten)            (None, 4608)              0         \n",
      "_________________________________________________________________\n",
      "dense (Dense)                (None, 512)               2359808   \n",
      "_________________________________________________________________\n",
      "dense_1 (Dense)              (None, 2)                 1026      \n",
      "=================================================================\n",
      "Total params: 3,044,418\n",
      "Trainable params: 3,044,418\n",
      "Non-trainable params: 0\n",
      "_________________________________________________________________\n"
     ]
    }
   ],
   "source": [
    "# Нейронка\n",
    "model = tf.keras.models.Sequential([\n",
    "    tf.keras.layers.Conv2D(32, (3,3), activation='relu', input_shape=(Image_lenght, Image_lenght, 3)),\n",
    "    tf.keras.layers.MaxPooling2D(2, 2),\n",
    "\n",
    "    tf.keras.layers.Conv2D(64, (3, 3), activation='relu'),\n",
    "    tf.keras.layers.MaxPooling2D(2, 2),\n",
    "\n",
    "    tf.keras.layers.Conv2D(128, (3, 3), activation='relu'),\n",
    "    tf.keras.layers.MaxPooling2D(2, 2),\n",
    "\n",
    "    tf.keras.layers.Conv2D(512, (3, 3), activation='relu'),\n",
    "    tf.keras.layers.MaxPooling2D(2, 2),\n",
    "\n",
    "    tf.keras.layers.Flatten(),\n",
    "    tf.keras.layers.Dense(512, activation='relu'),\n",
    "    tf.keras.layers.Dense(2, activation='softmax')\n",
    "])\n",
    "\n",
    "model.compile(optimizer='adam',\n",
    "              loss='sparse_categorical_crossentropy',\n",
    "              metrics=['accuracy'])\n",
    "              \n",
    "model.summary()"
   ]
  },
  {
   "cell_type": "code",
   "execution_count": 9,
   "metadata": {},
   "outputs": [],
   "source": [
    "train_images, train_labels = next(train_generator)\n",
    "test_images,  test_labels = next(test_generator)"
   ]
  },
  {
   "cell_type": "code",
   "execution_count": 10,
   "metadata": {},
   "outputs": [
    {
     "name": "stdout",
     "output_type": "stream",
     "text": [
      "WARNING:tensorflow:sample_weight modes were coerced from\n",
      "  ...\n",
      "    to  \n",
      "  ['...']\n",
      "WARNING:tensorflow:sample_weight modes were coerced from\n",
      "  ...\n",
      "    to  \n",
      "  ['...']\n",
      "Train for 18 steps, validate for 4 steps\n",
      "Epoch 1/20\n",
      "18/18 [==============================] - 16s 892ms/step - loss: 0.6066 - accuracy: 0.6000 - val_loss: 0.5172 - val_accuracy: 0.7672\n",
      "Epoch 2/20\n",
      "18/18 [==============================] - 12s 657ms/step - loss: 0.2142 - accuracy: 0.9119 - val_loss: 0.3143 - val_accuracy: 0.8966\n",
      "Epoch 3/20\n",
      "18/18 [==============================] - 12s 690ms/step - loss: 0.1080 - accuracy: 0.9560 - val_loss: 0.2373 - val_accuracy: 0.9138\n",
      "Epoch 4/20\n",
      "18/18 [==============================] - 12s 694ms/step - loss: 0.0885 - accuracy: 0.9670 - val_loss: 0.1066 - val_accuracy: 0.9569\n",
      "Epoch 5/20\n",
      "18/18 [==============================] - 12s 678ms/step - loss: 0.0927 - accuracy: 0.9596 - val_loss: 1.4406 - val_accuracy: 0.5086\n",
      "Epoch 6/20\n",
      "18/18 [==============================] - 12s 678ms/step - loss: 0.1433 - accuracy: 0.9339 - val_loss: 0.2226 - val_accuracy: 0.9310\n",
      "Epoch 7/20\n",
      "18/18 [==============================] - 12s 676ms/step - loss: 0.0520 - accuracy: 0.9835 - val_loss: 0.0930 - val_accuracy: 0.9569\n",
      "Epoch 8/20\n",
      "18/18 [==============================] - 12s 691ms/step - loss: 0.3011 - accuracy: 0.9193 - val_loss: 0.5458 - val_accuracy: 0.7845\n",
      "Epoch 9/20\n",
      "18/18 [==============================] - 12s 687ms/step - loss: 0.2099 - accuracy: 0.9009 - val_loss: 0.1776 - val_accuracy: 0.9052\n",
      "Epoch 10/20\n",
      "18/18 [==============================] - 12s 690ms/step - loss: 0.0969 - accuracy: 0.9596 - val_loss: 0.3689 - val_accuracy: 0.8448\n",
      "Epoch 11/20\n",
      "18/18 [==============================] - 12s 680ms/step - loss: 0.0612 - accuracy: 0.9725 - val_loss: 0.1657 - val_accuracy: 0.9310\n",
      "Epoch 12/20\n",
      "18/18 [==============================] - 13s 708ms/step - loss: 0.0308 - accuracy: 0.9890 - val_loss: 0.0821 - val_accuracy: 0.9655\n",
      "Epoch 13/20\n",
      "18/18 [==============================] - 12s 677ms/step - loss: 0.0413 - accuracy: 0.9835 - val_loss: 0.1297 - val_accuracy: 0.9397\n",
      "Epoch 14/20\n",
      "18/18 [==============================] - 12s 681ms/step - loss: 0.0444 - accuracy: 0.9780 - val_loss: 0.1152 - val_accuracy: 0.9310\n",
      "Epoch 15/20\n",
      "18/18 [==============================] - 12s 684ms/step - loss: 0.0126 - accuracy: 0.9982 - val_loss: 0.1016 - val_accuracy: 0.9569\n",
      "Epoch 16/20\n",
      "18/18 [==============================] - 12s 678ms/step - loss: 0.0059 - accuracy: 0.9982 - val_loss: 0.0892 - val_accuracy: 0.9569\n",
      "Epoch 17/20\n",
      "18/18 [==============================] - 12s 693ms/step - loss: 0.0035 - accuracy: 1.0000 - val_loss: 0.0728 - val_accuracy: 0.9655\n",
      "Epoch 18/20\n",
      "18/18 [==============================] - 12s 682ms/step - loss: 0.0014 - accuracy: 1.0000 - val_loss: 0.0846 - val_accuracy: 0.9655\n",
      "Epoch 19/20\n",
      "18/18 [==============================] - 13s 737ms/step - loss: 8.4283e-04 - accuracy: 1.0000 - val_loss: 0.0915 - val_accuracy: 0.9569\n",
      "Epoch 20/20\n",
      "18/18 [==============================] - 13s 713ms/step - loss: 4.9589e-04 - accuracy: 1.0000 - val_loss: 0.0892 - val_accuracy: 0.9569\n"
     ]
    }
   ],
   "source": [
    "history = model.fit(\n",
    "    train_generator,\n",
    "    validation_data=test_generator,\n",
    "    steps_per_epoch=int(np.ceil(total_train / float(Batch_size))),\n",
    "    epochs=20,\n",
    "    validation_steps=int(np.ceil(total_test / float(Batch_size))),\n",
    ")\n"
   ]
  },
  {
   "cell_type": "code",
   "execution_count": 13,
   "metadata": {},
   "outputs": [
    {
     "name": "stdout",
     "output_type": "stream",
     "text": [
      "TP: 11\n",
      "TN: 20\n",
      "FP: 0\n",
      "FN: 1\n",
      "\n",
      "Accuracy: 0.96875\n",
      "Precision: 1.0\n",
      "Sensitivity: 0.9166666666666666\n",
      "Specificity: 1.0\n"
     ]
    }
   ],
   "source": [
    "predictions = model.predict(test_images) \n",
    "\n",
    "TP = 0\n",
    "TN = 0\n",
    "FP = 0\n",
    "FN = 0\n",
    "i = 0\n",
    "while i < 32: \n",
    "    \n",
    "    if str(test_labels[i])[0] == '1' and str(np.argmax(predictions[i])) == '1':\n",
    "        TP += 1\n",
    "    elif str(test_labels[i])[0] == '1' and str(np.argmax(predictions[i])) == '0':\n",
    "        FN += 1\n",
    "    elif str(test_labels[i])[0] == '0' and str(np.argmax(predictions[i])) == '1':\n",
    "        FP += 1\n",
    "    elif str(test_labels[i])[0] == '0' and str(np.argmax(predictions[i])) == '0':\n",
    "        TN += 1\n",
    "    i += 1\n",
    "    \n",
    "Accuracy = (TN + TP) / (TN + FP + FN + TP)\n",
    "Precision = TP / (FP + TP)\n",
    "Sensitivity = TP / (TP + FN)\n",
    "Specificity = TN / (TN + FP)\n",
    "\n",
    "\n",
    "print(\"TP:\", TP)\n",
    "print(\"TN:\", TN)\n",
    "print(\"FP:\", FP)\n",
    "print(\"FN:\", FN)\n",
    "print('')\n",
    "print(\"Accuracy:\", Accuracy)\n",
    "print(\"Precision:\", Precision)\n",
    "print(\"Sensitivity:\", Sensitivity)\n",
    "print(\"Specificity:\", Specificity)"
   ]
  },
  {
   "cell_type": "code",
   "execution_count": null,
   "metadata": {},
   "outputs": [],
   "source": []
  },
  {
   "cell_type": "code",
   "execution_count": null,
   "metadata": {},
   "outputs": [],
   "source": []
  }
 ],
 "metadata": {
  "kernelspec": {
   "display_name": "Python 3",
   "language": "python",
   "name": "python3"
  },
  "language_info": {
   "codemirror_mode": {
    "name": "ipython",
    "version": 3
   },
   "file_extension": ".py",
   "mimetype": "text/x-python",
   "name": "python",
   "nbconvert_exporter": "python",
   "pygments_lexer": "ipython3",
   "version": "3.7.7"
  }
 },
 "nbformat": 4,
 "nbformat_minor": 4
}
